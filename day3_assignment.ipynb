{
 "cells": [
  {
   "cell_type": "code",
   "execution_count": 3,
   "metadata": {},
   "outputs": [],
   "source": [
    "import numpy as np"
   ]
  },
  {
   "cell_type": "markdown",
   "metadata": {},
   "source": [
    "1.ANSWER"
   ]
  },
  {
   "cell_type": "code",
   "execution_count": 4,
   "metadata": {},
   "outputs": [
    {
     "name": "stdout",
     "output_type": "stream",
     "text": [
      "[ 2  5  8 11 14 17 20 23 26 29 32 35 38 41 44 47]\n"
     ]
    }
   ],
   "source": [
    "n_arr = np.arange(2,50,3)\n",
    "print(n_arr)"
   ]
  },
  {
   "cell_type": "markdown",
   "metadata": {},
   "source": [
    "2.ANSWER"
   ]
  },
  {
   "cell_type": "code",
   "execution_count": 10,
   "metadata": {},
   "outputs": [
    {
     "name": "stdout",
     "output_type": "stream",
     "text": [
      "[[ 1  2  4 30 54 69]\n",
      " [ 2  4  9 10 52 74]]\n"
     ]
    }
   ],
   "source": [
    "lst1 = [2,30,4,54,69,1]\n",
    "lst2 = [10,52,74,9,2,4]\n",
    "n_arr = np.array([lst1,lst2])\n",
    "print(np.sort(n_arr))"
   ]
  },
  {
   "cell_type": "markdown",
   "metadata": {},
   "source": [
    "3.ANSWER"
   ]
  },
  {
   "cell_type": "code",
   "execution_count": 12,
   "metadata": {},
   "outputs": [
    {
     "name": "stdout",
     "output_type": "stream",
     "text": [
      "[[89 54 63]\n",
      " [75  8 45]\n",
      " [ 4 78 20]]\n",
      "2\n",
      "9\n"
     ]
    }
   ],
   "source": [
    "n_arr = np.array([[89,54,63],[75,8,45],[4,78,20]])\n",
    "print(n_arr)\n",
    "print(n_arr.ndim)\n",
    "print(n_arr.size)\n"
   ]
  },
  {
   "cell_type": "markdown",
   "metadata": {},
   "source": [
    "4.ANSWER"
   ]
  },
  {
   "cell_type": "code",
   "execution_count": 45,
   "metadata": {},
   "outputs": [
    {
     "name": "stdout",
     "output_type": "stream",
     "text": [
      "[[ 1  2  4  5  7]\n",
      " [ 8  9  6  3 50]]\n",
      "[ 1  2  4  5  7  8  9  6  3 50]\n",
      "[[[ 1]\n",
      "  [ 2]\n",
      "  [ 4]\n",
      "  [ 5]\n",
      "  [ 7]\n",
      "  [ 8]\n",
      "  [ 9]\n",
      "  [ 6]\n",
      "  [ 3]\n",
      "  [50]]]\n"
     ]
    }
   ],
   "source": [
    "n_arr1 = np.array([1,2,4,5,7,8,9,6,3,50])\n",
    "n_arr2 = np.reshape(n_arr1,(2,5))\n",
    "print(n_arr2)\n",
    "print(n_arr1[np.newaxis:])\n",
    "\n",
    "arr = np.expand_dims(n_arr1, axis=(2,0))\n",
    "print(arr)"
   ]
  },
  {
   "cell_type": "markdown",
   "metadata": {},
   "source": [
    "5.ANSWER"
   ]
  },
  {
   "cell_type": "code",
   "execution_count": 49,
   "metadata": {},
   "outputs": [
    {
     "name": "stdout",
     "output_type": "stream",
     "text": [
      "[1 2 3 4 5 6]\n",
      "[[1 2 3]\n",
      " [4 5 6]]\n"
     ]
    }
   ],
   "source": [
    "n1 = np.array([1,2,3])\n",
    "n2 = np.array([4,5,6])\n",
    "\n",
    "print( np.hstack((n1, n2)))\n",
    "print(np.vstack((n1,n2)))"
   ]
  },
  {
   "cell_type": "markdown",
   "metadata": {},
   "source": [
    "6.ANSWER"
   ]
  },
  {
   "cell_type": "code",
   "execution_count": 55,
   "metadata": {},
   "outputs": [
    {
     "name": "stdout",
     "output_type": "stream",
     "text": [
      "[[1 2 3 4]\n",
      " [3 1 1 2]]\n"
     ]
    }
   ],
   "source": [
    "nums = np.array([1, 1, 2, 3, 4, 4, 1])\n",
    "\n",
    "(unique, counts) = numpy.unique(number_list, return_counts=True)\n",
    "freq = np.asarray((unique, counts))\n",
    "print(freq)"
   ]
  },
  {
   "cell_type": "code",
   "execution_count": null,
   "metadata": {},
   "outputs": [],
   "source": []
  }
 ],
 "metadata": {
  "kernelspec": {
   "display_name": "Python 3",
   "language": "python",
   "name": "python3"
  },
  "language_info": {
   "codemirror_mode": {
    "name": "ipython",
    "version": 3
   },
   "file_extension": ".py",
   "mimetype": "text/x-python",
   "name": "python",
   "nbconvert_exporter": "python",
   "pygments_lexer": "ipython3",
   "version": "3.7.0"
  }
 },
 "nbformat": 4,
 "nbformat_minor": 4
}
